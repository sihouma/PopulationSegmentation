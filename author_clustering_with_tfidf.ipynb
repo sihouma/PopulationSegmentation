{
 "cells": [
  {
   "cell_type": "markdown",
   "metadata": {
    "collapsed": true
   },
   "source": [
    "# Population Segmentation: TF-IDF Features"
   ]
  },
  {
   "cell_type": "markdown",
   "metadata": {},
   "source": [
    "## Objective"
   ]
  },
  {
   "cell_type": "markdown",
   "metadata": {},
   "source": [
    "Author clustering Using their tweets.\n",
    "TF-IDF as text features extraction"
   ]
  },
  {
   "cell_type": "markdown",
   "metadata": {},
   "source": [
    "## Load the data"
   ]
  },
  {
   "cell_type": "code",
   "execution_count": 7,
   "metadata": {},
   "outputs": [],
   "source": [
    "from sklearn.decomposition import TruncatedSVD\n",
    "from sklearn.feature_extraction.text import TfidfVectorizer\n",
    "from sklearn.feature_extraction.text import HashingVectorizer\n",
    "from sklearn.feature_extraction.text import TfidfTransformer\n",
    "from sklearn.pipeline import make_pipeline\n",
    "from sklearn.preprocessing import Normalizer\n",
    "from sklearn import metrics\n",
    "\n",
    "from sklearn.cluster import KMeans, MiniBatchKMeans\n",
    "\n",
    "from utilities.load_tweets import load_tweets\n",
    "from utilities.load_authors_data import load_authors_data\n",
    "\n",
    "from time import time\n",
    "\n",
    "import numpy as np\n",
    "\n",
    "import pandas as pd"
   ]
  },
  {
   "cell_type": "code",
   "execution_count": 70,
   "metadata": {},
   "outputs": [],
   "source": [
    "path = \"data/pan15/english/\"\n",
    "authors_data = load_authors_data(path)\n",
    "\n",
    "authors_data['tweet_text'] = authors_data['tweets'].apply(lambda x:\" \".join(x))"
   ]
  },
  {
   "cell_type": "code",
   "execution_count": 3,
   "metadata": {},
   "outputs": [
    {
     "data": {
      "text/html": [
       "<div>\n",
       "<style scoped>\n",
       "    .dataframe tbody tr th:only-of-type {\n",
       "        vertical-align: middle;\n",
       "    }\n",
       "\n",
       "    .dataframe tbody tr th {\n",
       "        vertical-align: top;\n",
       "    }\n",
       "\n",
       "    .dataframe thead th {\n",
       "        text-align: right;\n",
       "    }\n",
       "</style>\n",
       "<table border=\"1\" class=\"dataframe\">\n",
       "  <thead>\n",
       "    <tr style=\"text-align: right;\">\n",
       "      <th></th>\n",
       "      <th>gender</th>\n",
       "      <th>age_group</th>\n",
       "      <th>extraverted</th>\n",
       "      <th>stable</th>\n",
       "      <th>agreeable</th>\n",
       "      <th>conscientious</th>\n",
       "      <th>open</th>\n",
       "      <th>tweets</th>\n",
       "      <th>tweet_text</th>\n",
       "    </tr>\n",
       "  </thead>\n",
       "  <tbody>\n",
       "    <tr>\n",
       "      <th>user552</th>\n",
       "      <td>M</td>\n",
       "      <td>25-34</td>\n",
       "      <td>0.3</td>\n",
       "      <td>0.5</td>\n",
       "      <td>0.1</td>\n",
       "      <td>0.2</td>\n",
       "      <td>0.2</td>\n",
       "      <td>[How to Test Your Startup Idea for $50 http://...</td>\n",
       "      <td>How to Test Your Startup Idea for $50 http://t...</td>\n",
       "    </tr>\n",
       "    <tr>\n",
       "      <th>user865</th>\n",
       "      <td>M</td>\n",
       "      <td>25-34</td>\n",
       "      <td>0.2</td>\n",
       "      <td>0.4</td>\n",
       "      <td>0.2</td>\n",
       "      <td>0.0</td>\n",
       "      <td>0.2</td>\n",
       "      <td>[Everyday I come up with a new optimum solutio...</td>\n",
       "      <td>Everyday I come up with a new optimum solution...</td>\n",
       "    </tr>\n",
       "    <tr>\n",
       "      <th>user103</th>\n",
       "      <td>M</td>\n",
       "      <td>18-24</td>\n",
       "      <td>0.1</td>\n",
       "      <td>0.2</td>\n",
       "      <td>0.1</td>\n",
       "      <td>0.1</td>\n",
       "      <td>0.1</td>\n",
       "      <td>[@username @username @username @username  #IfM...</td>\n",
       "      <td>@username @username @username @username  #IfMy...</td>\n",
       "    </tr>\n",
       "    <tr>\n",
       "      <th>user179</th>\n",
       "      <td>F</td>\n",
       "      <td>18-24</td>\n",
       "      <td>0.1</td>\n",
       "      <td>0.1</td>\n",
       "      <td>-0.1</td>\n",
       "      <td>0.5</td>\n",
       "      <td>0.1</td>\n",
       "      <td>[I wish we could talk forever.\\t\\t, 100000 thi...</td>\n",
       "      <td>I wish we could talk forever.\\t\\t 100000 thing...</td>\n",
       "    </tr>\n",
       "    <tr>\n",
       "      <th>user321</th>\n",
       "      <td>F</td>\n",
       "      <td>18-24</td>\n",
       "      <td>0.0</td>\n",
       "      <td>-0.1</td>\n",
       "      <td>0.1</td>\n",
       "      <td>0.3</td>\n",
       "      <td>0.4</td>\n",
       "      <td>[icarly ^^\\t\\t, thuis&lt;3\\t\\t, Homework finished...</td>\n",
       "      <td>icarly ^^\\t\\t thuis&lt;3\\t\\t Homework finished.\\t...</td>\n",
       "    </tr>\n",
       "  </tbody>\n",
       "</table>\n",
       "</div>"
      ],
      "text/plain": [
       "        gender age_group extraverted stable agreeable conscientious open  \\\n",
       "user552      M     25-34         0.3    0.5       0.1           0.2  0.2   \n",
       "user865      M     25-34         0.2    0.4       0.2           0.0  0.2   \n",
       "user103      M     18-24         0.1    0.2       0.1           0.1  0.1   \n",
       "user179      F     18-24         0.1    0.1      -0.1           0.5  0.1   \n",
       "user321      F     18-24         0.0   -0.1       0.1           0.3  0.4   \n",
       "\n",
       "                                                    tweets  \\\n",
       "user552  [How to Test Your Startup Idea for $50 http://...   \n",
       "user865  [Everyday I come up with a new optimum solutio...   \n",
       "user103  [@username @username @username @username  #IfM...   \n",
       "user179  [I wish we could talk forever.\\t\\t, 100000 thi...   \n",
       "user321  [icarly ^^\\t\\t, thuis<3\\t\\t, Homework finished...   \n",
       "\n",
       "                                                tweet_text  \n",
       "user552  How to Test Your Startup Idea for $50 http://t...  \n",
       "user865  Everyday I come up with a new optimum solution...  \n",
       "user103  @username @username @username @username  #IfMy...  \n",
       "user179  I wish we could talk forever.\\t\\t 100000 thing...  \n",
       "user321  icarly ^^\\t\\t thuis<3\\t\\t Homework finished.\\t...  "
      ]
     },
     "execution_count": 3,
     "metadata": {},
     "output_type": "execute_result"
    }
   ],
   "source": [
    "authors_data.head()"
   ]
  },
  {
   "cell_type": "code",
   "execution_count": 71,
   "metadata": {},
   "outputs": [],
   "source": [
    "from utilities.clean_tweets import clean_tweets\n",
    "authors_data['tweet_text_clean'] = authors_data['tweet_text'].apply(lambda text: clean_tweets(text))"
   ]
  },
  {
   "cell_type": "markdown",
   "metadata": {},
   "source": [
    "## Extract TF-IDF Features"
   ]
  },
  {
   "cell_type": "code",
   "execution_count": 31,
   "metadata": {},
   "outputs": [
    {
     "name": "stdout",
     "output_type": "stream",
     "text": [
      "Total number of features : 6797\n",
      "Total number of rows: 152\n"
     ]
    }
   ],
   "source": [
    "from sklearn.feature_extraction import text\n",
    "my_stop_words = text.ENGLISH_STOP_WORDS\n",
    "\n",
    "n_features = 10000 # Maximum number of features (dimensions) to extract from text.\n",
    "tfidf_vect = TfidfVectorizer(max_df=0.5, max_features=n_features,\n",
    "                                 min_df=2, stop_words='english',\n",
    "                                 use_idf= True)\n",
    "\n",
    "\n",
    "#TfidfVectorizer(min_df=opts.min,stop_words=set(my_stop_words),ngram_range=(1, opts.ngrammax))\n",
    "\n",
    "# - count the word frequencies in the tweets\n",
    "feats = tfidf_vect.fit_transform(authors_data['tweet_text_clean'])\n",
    "    \n",
    "dense = feats.todense()\n",
    "denselist = dense.tolist()\n",
    "df = pd.DataFrame(denselist, columns=tfidf_vect.get_feature_names())\n",
    "\n",
    "# print son features info\n",
    "\n",
    "print(\"Total number of features :\", feats.shape[1])\n",
    "print(\"Total number of rows:\", feats.shape[0])"
   ]
  },
  {
   "cell_type": "markdown",
   "metadata": {},
   "source": [
    "## Dimensionality reduction using Latent Semantic Analysis (LSA)"
   ]
  },
  {
   "cell_type": "markdown",
   "metadata": {},
   "source": [
    "Dimensionality reduction using truncated SVD (aka LSA).\n",
    "\n",
    "This transformer performs linear dimensionality reduction by means of truncated singular value decomposition (SVD). Contrary to PCA, this estimator does not center the data before computing the singular value decomposition. This means it can work with sparse matrices efficiently.\n",
    "\n",
    "In particular, truncated SVD works on term count/tf-idf matrices as returned by the vectorizers in sklearn.feature_extraction.text. In that context, it is known as latent semantic analysis (LSA)."
   ]
  },
  {
   "cell_type": "code",
   "execution_count": 16,
   "metadata": {},
   "outputs": [
    {
     "name": "stdout",
     "output_type": "stream",
     "text": [
      "Explained variance of the SVD step: 3%\n"
     ]
    }
   ],
   "source": [
    "# Vectorizer results are normalized, which makes KMeans behave as\n",
    "# spherical k-means for better results. Since LSA/SVD results are\n",
    "# not normalized, we have to redo the normalization.\n",
    "\n",
    "\n",
    "lsa_n_components = 2 #Preprocess documents with latent semantic analysis for dimentionality reduction\n",
    "svd = TruncatedSVD(lsa_n_components)\n",
    "lsa = make_pipeline(svd, Normalizer(copy=False))\n",
    "\n",
    "X_lsa = lsa.fit_transform(feats)\n",
    "\n",
    "explained_variance = svd.explained_variance_ratio_.sum()\n",
    "print(\"Explained variance of the SVD step: {}%\".format(\n",
    "    int(explained_variance * 100)))"
   ]
  },
  {
   "cell_type": "markdown",
   "metadata": {},
   "source": [
    "## Find the optimal numbers of clusters"
   ]
  },
  {
   "cell_type": "code",
   "execution_count": 18,
   "metadata": {},
   "outputs": [],
   "source": [
    "Sum_of_squared_distances = []\n",
    "K = range(1,20)\n",
    "for k in K:\n",
    "    km = KMeans(n_clusters=k)\n",
    "    km = km.fit(X_lsa)\n",
    "    Sum_of_squared_distances.append(km.inertia_)"
   ]
  },
  {
   "cell_type": "code",
   "execution_count": 19,
   "metadata": {},
   "outputs": [
    {
     "data": {
      "image/png": "[encoded data removed]",
      "text/plain": [
       "<Figure size 432x288 with 1 Axes>"
      ]
     },
     "metadata": {
      "needs_background": "light"
     },
     "output_type": "display_data"
    }
   ],
   "source": [
    "import matplotlib.pyplot as plt\n",
    "plt.plot(K, Sum_of_squared_distances, marker='o')\n",
    "plt.xticks(K)\n",
    "plt.xlabel('number of clusters: k')\n",
    "plt.ylabel('Distortion : SSE')\n",
    "plt.title('Elbow Method For Optimal k')\n",
    "plt.show()"
   ]
  },
  {
   "cell_type": "markdown",
   "metadata": {},
   "source": [
    "**The Best Number of cluster could be 2, 3 or 4**"
   ]
  },
  {
   "cell_type": "markdown",
   "metadata": {},
   "source": [
    "## Perform Author Clustering with k=2"
   ]
  },
  {
   "cell_type": "code",
   "execution_count": 20,
   "metadata": {},
   "outputs": [],
   "source": [
    " km = KMeans(n_clusters=2, init='k-means++', max_iter=100, n_init=1,\n",
    "                verbose=True)"
   ]
  },
  {
   "cell_type": "code",
   "execution_count": 104,
   "metadata": {},
   "outputs": [
    {
     "name": "stdout",
     "output_type": "stream",
     "text": [
      "Initialization complete\n",
      "Iteration 0, inertia 7.810190253160633\n",
      "Iteration 1, inertia 6.042606785594324\n",
      "Iteration 2, inertia 5.681628372625278\n",
      "Iteration 3, inertia 5.484590110198859\n",
      "Iteration 4, inertia 5.286917829294011\n",
      "Iteration 5, inertia 5.128424536234801\n",
      "Iteration 6, inertia 4.971720110071897\n",
      "Iteration 7, inertia 4.968448754454028\n",
      "Converged at iteration 7: center shift 0.0 within tolerance 1.1287967437805055e-05\n"
     ]
    }
   ],
   "source": [
    "y_km = km.fit_predict(X_lsa)"
   ]
  },
  {
   "cell_type": "markdown",
   "metadata": {},
   "source": [
    "### Cluster Visualization"
   ]
  },
  {
   "cell_type": "code",
   "execution_count": 105,
   "metadata": {},
   "outputs": [
    {
     "data": {
      "text/plain": [
       "(17,)"
      ]
     },
     "execution_count": 105,
     "metadata": {},
     "output_type": "execute_result"
    }
   ],
   "source": [
    "s=  X_lsa[((y_km == 0) & (authors_data['gender']=='M')), 0]\n",
    "s.shape"
   ]
  },
  {
   "cell_type": "code",
   "execution_count": 106,
   "metadata": {},
   "outputs": [
    {
     "data": {
      "text/plain": [
       "(76,)"
      ]
     },
     "execution_count": 106,
     "metadata": {},
     "output_type": "execute_result"
    }
   ],
   "source": [
    "y=  X_lsa[authors_data['gender']=='M', 0]\n",
    "y.shape"
   ]
  },
  {
   "cell_type": "code",
   "execution_count": 107,
   "metadata": {},
   "outputs": [
    {
     "data": {
      "image/png": "[encoded data removed]",
      "text/plain": [
       "<Figure size 432x288 with 1 Axes>"
      ]
     },
     "metadata": {
      "needs_background": "light"
     },
     "output_type": "display_data"
    }
   ],
   "source": [
    "\n",
    "\n",
    "import matplotlib.pyplot as plt \n",
    "import seaborn as sns \n",
    "import plotly as py\n",
    "import plotly.graph_objs as go\n",
    "\n",
    "# plot the 2 clusters\n",
    "plt.scatter(\n",
    "    X_lsa[((y_km == 0) & (authors_data['gender']=='M')), 0], X_lsa[((y_km == 0) & (authors_data['gender']=='M')), 1],\n",
    "    s=50, c='blue',\n",
    "    marker='s', edgecolor='black',\n",
    "    label='cluster 1 Male'\n",
    ")\n",
    "\n",
    "plt.scatter(\n",
    "    X_lsa[((y_km == 0) & (authors_data['gender']=='F')), 0], X_lsa[((y_km == 0) & (authors_data['gender']=='F')), 1],\n",
    "    s=50, c='lightgreen',\n",
    "    marker='s', edgecolor='black',\n",
    "    label='cluster 1 Female'\n",
    ")\n",
    "\n",
    "plt.scatter(\n",
    "    X_lsa[((y_km == 1) & (authors_data['gender']=='M')), 0], X_lsa[((y_km == 1) & (authors_data['gender']=='M')), 1],\n",
    "    s=50, c='purple',\n",
    "    marker='o', edgecolor='black',\n",
    "    label='cluster 2 Male'\n",
    ")\n",
    "\n",
    "plt.scatter(\n",
    "    X_lsa[((y_km == 1) & (authors_data['gender']=='F')), 0], X_lsa[((y_km == 1) & (authors_data['gender']=='F')), 1],\n",
    "    s=50, c='orange',\n",
    "    marker='o', edgecolor='black',\n",
    "    label='cluster 2 Female'\n",
    ")\n",
    "\n",
    "# plot the centroids\n",
    "plt.scatter(\n",
    "    km.cluster_centers_[:, 0], km.cluster_centers_[:, 1],\n",
    "    s=250, marker='*',\n",
    "    c='red', edgecolor='black',\n",
    "    label='centroids'\n",
    ")\n",
    "plt.legend(scatterpoints=1)\n",
    "plt.grid()\n",
    "plt.show()"
   ]
  },
  {
   "cell_type": "markdown",
   "metadata": {},
   "source": [
    "## Perform Author Clustering with k=3"
   ]
  },
  {
   "cell_type": "code",
   "execution_count": 98,
   "metadata": {},
   "outputs": [],
   "source": [
    " km = KMeans(n_clusters=3, init='k-means++', max_iter=100, n_init=1,\n",
    "                verbose=True)"
   ]
  },
  {
   "cell_type": "code",
   "execution_count": 99,
   "metadata": {},
   "outputs": [
    {
     "name": "stdout",
     "output_type": "stream",
     "text": [
      "Initialization complete\n",
      "Iteration 0, inertia 7.360856472178648\n",
      "Iteration 1, inertia 5.00917301185674\n",
      "Iteration 2, inertia 4.978831080181442\n",
      "Iteration 3, inertia 4.973199464134643\n",
      "Iteration 4, inertia 4.963809478386415\n",
      "Iteration 5, inertia 4.955395030991867\n",
      "Iteration 6, inertia 4.938002452677523\n",
      "Iteration 7, inertia 4.915998047498054\n",
      "Iteration 8, inertia 4.8865749489976755\n",
      "Iteration 9, inertia 4.855184626791145\n",
      "Iteration 10, inertia 4.851886035411765\n",
      "Converged at iteration 10: center shift 0.0 within tolerance 1.1287967437805055e-05\n"
     ]
    }
   ],
   "source": [
    "y_km = km.fit_predict(X_lsa)"
   ]
  },
  {
   "cell_type": "markdown",
   "metadata": {},
   "source": [
    "### Plot the clusters"
   ]
  },
  {
   "cell_type": "code",
   "execution_count": 102,
   "metadata": {},
   "outputs": [
    {
     "data": {
      "image/png": "[encoded data removed]",
      "text/plain": [
       "<Figure size 432x288 with 1 Axes>"
      ]
     },
     "metadata": {
      "needs_background": "light"
     },
     "output_type": "display_data"
    }
   ],
   "source": [
    "import matplotlib.pyplot as plt \n",
    "import seaborn as sns \n",
    "import plotly as py\n",
    "import plotly.graph_objs as go\n",
    "\n",
    "# plot the 2 clusters\n",
    "plt.scatter(\n",
    "    X_lsa[((y_km == 0) & (authors_data['gender']=='M')), 0], X_lsa[((y_km == 0) & (authors_data['gender']=='M')), 1],\n",
    "    s=50, c='blue',\n",
    "    marker='s', edgecolor='black',\n",
    "    label='cluster 1 Male'\n",
    ")\n",
    "\n",
    "plt.scatter(\n",
    "    X_lsa[((y_km == 0) & (authors_data['gender']=='F')), 0], X_lsa[((y_km == 0) & (authors_data['gender']=='F')), 1],\n",
    "    s=50, c='lightgreen',\n",
    "    marker='s', edgecolor='black',\n",
    "    label='cluster 1 Female'\n",
    ")\n",
    "\n",
    "plt.scatter(\n",
    "    X_lsa[((y_km == 1) & (authors_data['gender']=='M')), 0], X_lsa[((y_km == 1) & (authors_data['gender']=='M')), 1],\n",
    "    s=50, c='purple',\n",
    "    marker='+', edgecolor='black',\n",
    "    label='cluster 2 Male'\n",
    ")\n",
    "\n",
    "plt.scatter(\n",
    "    X_lsa[((y_km == 1) & (authors_data['gender']=='F')), 0], X_lsa[((y_km == 1) & (authors_data['gender']=='F')), 1],\n",
    "    s=50, c='orange',\n",
    "    marker='+', edgecolor='black',\n",
    "    label='cluster 2 Female'\n",
    ")\n",
    "\n",
    "plt.scatter(\n",
    "    X_lsa[((y_km == 2) & (authors_data['gender']=='M')), 0], X_lsa[((y_km == 2) & (authors_data['gender']=='M')), 1],\n",
    "    s=50, c='black',\n",
    "    marker='o', edgecolor='black',\n",
    "    label='cluster 3 Male'\n",
    ")\n",
    "\n",
    "plt.scatter(\n",
    "    X_lsa[((y_km == 2) & (authors_data['gender']=='F')), 0], X_lsa[((y_km == 2) & (authors_data['gender']=='F')), 1],\n",
    "    s=50, c='white',\n",
    "    marker='o', edgecolor='black',\n",
    "    label='cluster 3 Female'\n",
    ")\n",
    "\n",
    "# plot the centroids\n",
    "plt.scatter(\n",
    "    km.cluster_centers_[:, 0], km.cluster_centers_[:, 1],\n",
    "    s=250, marker='*',\n",
    "    c='red', edgecolor='black',\n",
    "    label='centroids'\n",
    ")\n",
    "plt.legend(scatterpoints=1)\n",
    "plt.grid()\n",
    "plt.show()"
   ]
  },
  {
   "cell_type": "code",
   "execution_count": 103,
   "metadata": {},
   "outputs": [
    {
     "data": {
      "image/png": "[encoded data removed]",
      "text/plain": [
       "<Figure size 432x288 with 1 Axes>"
      ]
     },
     "metadata": {
      "needs_background": "light"
     },
     "output_type": "display_data"
    }
   ],
   "source": [
    "\n",
    "\n",
    "import matplotlib.pyplot as plt \n",
    "import seaborn as sns \n",
    "import plotly as py\n",
    "import plotly.graph_objs as go\n",
    "\n",
    "# plot the 2 clusters\n",
    "plt.scatter(\n",
    "    X_lsa[((y_km == 0) & (authors_data['age_group']=='18-24')), 0], X_lsa[((y_km == 0) & (authors_data['age_group']=='18-24')), 1],\n",
    "    s=50, c='blue',\n",
    "    marker='s', edgecolor='black',\n",
    "    label='cluster 1 age 18-24'\n",
    ")\n",
    "\n",
    "plt.scatter(\n",
    "    X_lsa[((y_km == 0) & (authors_data['age_group']=='25-34')), 0], X_lsa[((y_km == 0) & (authors_data['age_group']=='25-34')), 1],\n",
    "    s=50, c='lightgreen',\n",
    "    marker='s', edgecolor='black',\n",
    "    label='cluster 1 age 25-34'\n",
    ")\n",
    "\n",
    "\n",
    "\n",
    "plt.scatter(\n",
    "    X_lsa[((y_km == 1) & (authors_data['age_group']=='18-24')), 0], X_lsa[((y_km == 1) & (authors_data['age_group']=='18-24')), 1],\n",
    "    s=50, c='purple',\n",
    "    marker='v', edgecolor='black',\n",
    "    label='cluster 2 age 18-24'\n",
    ")\n",
    "\n",
    "plt.scatter(\n",
    "    X_lsa[((y_km == 1) & (authors_data['age_group']=='25-34')), 0], X_lsa[((y_km == 1) & (authors_data['age_group']=='25-34')), 1],\n",
    "    s=50, c='orange',\n",
    "    marker='v', edgecolor='black',\n",
    "    label='cluster 2 age 25-34'\n",
    ")\n",
    "\n",
    "plt.scatter(\n",
    "    X_lsa[((y_km == 2) & (authors_data['age_group']=='18-24')), 0], X_lsa[((y_km == 2) & (authors_data['age_group']=='18-24')), 1],\n",
    "    s=50, c='black',\n",
    "    marker='o', edgecolor='black',\n",
    "    label='cluster 3 age 18-24'\n",
    ")\n",
    "\n",
    "plt.scatter(\n",
    "    X_lsa[((y_km == 2) & (authors_data['age_group']=='25-34')), 0], X_lsa[((y_km == 2) & (authors_data['age_group']=='25-34')), 1],\n",
    "    s=50, c='white',\n",
    "    marker='o', edgecolor='black',\n",
    "    label='cluster 3 age 25-34'\n",
    ")\n",
    "\n",
    "# plot the centroids\n",
    "plt.scatter(\n",
    "    km.cluster_centers_[:, 0], km.cluster_centers_[:, 1],\n",
    "    s=250, marker='*',\n",
    "    c='red', edgecolor='black',\n",
    "    label='centroids'\n",
    ")\n",
    "plt.legend(scatterpoints=1)\n",
    "plt.grid()\n",
    "plt.show()"
   ]
  },
  {
   "cell_type": "markdown",
   "metadata": {},
   "source": [
    "## Perform Author Clustering with k=4"
   ]
  },
  {
   "cell_type": "code",
   "execution_count": 94,
   "metadata": {},
   "outputs": [],
   "source": [
    "km = KMeans(n_clusters=4, init='k-means++', max_iter=100, n_init=1,\n",
    "                verbose=True)"
   ]
  },
  {
   "cell_type": "code",
   "execution_count": 95,
   "metadata": {},
   "outputs": [
    {
     "name": "stdout",
     "output_type": "stream",
     "text": [
      "Initialization complete\n",
      "Iteration 0, inertia 2.626310485645717\n",
      "Iteration 1, inertia 2.3814118956576236\n",
      "Converged at iteration 1: center shift 0.0 within tolerance 1.1287967437805055e-05\n"
     ]
    }
   ],
   "source": [
    "y_km = km.fit_predict(X_lsa)"
   ]
  },
  {
   "cell_type": "code",
   "execution_count": 97,
   "metadata": {},
   "outputs": [
    {
     "data": {
      "image/png": "[encoded data removed]",
      "text/plain": [
       "<Figure size 432x288 with 1 Axes>"
      ]
     },
     "metadata": {
      "needs_background": "light"
     },
     "output_type": "display_data"
    }
   ],
   "source": [
    "import matplotlib.pyplot as plt \n",
    "import seaborn as sns \n",
    "import plotly as py\n",
    "import plotly.graph_objs as go\n",
    "\n",
    "# plot the 2 clusters\n",
    "plt.scatter(\n",
    "    X_lsa[((y_km == 0) & (authors_data['gender']=='M')), 0], X_lsa[((y_km == 0) & (authors_data['gender']=='M')), 1],\n",
    "    s=50, c='blue',\n",
    "    marker='s', edgecolor='black',\n",
    "    label='cluster 1 Male'\n",
    ")\n",
    "\n",
    "plt.scatter(\n",
    "    X_lsa[((y_km == 0) & (authors_data['gender']=='F')), 0], X_lsa[((y_km == 0) & (authors_data['gender']=='F')), 1],\n",
    "    s=50, c='orange',\n",
    "    marker='s', edgecolor='black',\n",
    "    label='cluster 1 Female'\n",
    ")\n",
    "\n",
    "plt.scatter(\n",
    "    X_lsa[((y_km == 1) & (authors_data['gender']=='M')), 0], X_lsa[((y_km == 1) & (authors_data['gender']=='M')), 1],\n",
    "    s=50, c='blue',\n",
    "    marker='+', edgecolor='black',\n",
    "    label='cluster 2 Male'\n",
    ")\n",
    "\n",
    "plt.scatter(\n",
    "    X_lsa[((y_km == 1) & (authors_data['gender']=='F')), 0], X_lsa[((y_km == 1) & (authors_data['gender']=='F')), 1],\n",
    "    s=50, c='orange',\n",
    "    marker='+', edgecolor='black',\n",
    "    label='cluster 2 Female'\n",
    ")\n",
    "\n",
    "plt.scatter(\n",
    "    X_lsa[((y_km == 2) & (authors_data['gender']=='M')), 0], X_lsa[((y_km == 2) & (authors_data['gender']=='M')), 1],\n",
    "    s=50, c='blue',\n",
    "    marker='v', edgecolor='black',\n",
    "    label='cluster 3 Male'\n",
    ")\n",
    "\n",
    "plt.scatter(\n",
    "    X_lsa[((y_km == 2) & (authors_data['gender']=='F')), 0], X_lsa[((y_km == 2) & (authors_data['gender']=='F')), 1],\n",
    "    s=50, c='orange',\n",
    "    marker='v', edgecolor='black',\n",
    "    label='cluster 3 Female'\n",
    ")\n",
    "\n",
    "plt.scatter(\n",
    "    X_lsa[((y_km == 3) & (authors_data['gender']=='M')), 0], X_lsa[((y_km == 3) & (authors_data['gender']=='M')), 1],\n",
    "    s=50, c='blue',\n",
    "    marker='.', edgecolor='black',\n",
    "    label='cluster 4 Male'\n",
    ")\n",
    "\n",
    "plt.scatter(\n",
    "    X_lsa[((y_km == 3) & (authors_data['gender']=='F')), 0], X_lsa[((y_km == 3) & (authors_data['gender']=='F')), 1],\n",
    "    s=50, c='orange',\n",
    "    marker='.', edgecolor='black',\n",
    "    label='cluster 4 Female'\n",
    ")\n",
    "\n",
    "# plot the centroids\n",
    "plt.scatter(\n",
    "    km.cluster_centers_[:, 0], km.cluster_centers_[:, 1],\n",
    "    s=250, marker='*',\n",
    "    c='red', edgecolor='black',\n",
    "    label='centroids'\n",
    ")\n",
    "plt.legend(scatterpoints=1)\n",
    "plt.grid()\n",
    "plt.show()"
   ]
  },
  {
   "cell_type": "code",
   "execution_count": null,
   "metadata": {},
   "outputs": [],
   "source": []
  }
 ],
 "metadata": {
  "kernelspec": {
   "display_name": "Python 3",
   "language": "python",
   "name": "python3"
  },
  "language_info": {
   "codemirror_mode": {
    "name": "ipython",
    "version": 3
   },
   "file_extension": ".py",
   "mimetype": "text/x-python",
   "name": "python",
   "nbconvert_exporter": "python",
   "pygments_lexer": "ipython3",
   "version": "3.7.7"
  }
 },
 "nbformat": 4,
 "nbformat_minor": 1
}
